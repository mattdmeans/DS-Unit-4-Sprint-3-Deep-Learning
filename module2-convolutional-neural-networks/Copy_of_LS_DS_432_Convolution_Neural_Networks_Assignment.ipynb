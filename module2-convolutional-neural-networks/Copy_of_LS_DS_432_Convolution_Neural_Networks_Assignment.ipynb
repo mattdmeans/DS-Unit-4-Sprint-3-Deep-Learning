{
  "nbformat": 4,
  "nbformat_minor": 0,
  "metadata": {
    "kernelspec": {
      "display_name": "U4-S2-NNF-DS10",
      "language": "python",
      "name": "u4-s2-nnf-ds10"
    },
    "language_info": {
      "codemirror_mode": {
        "name": "ipython",
        "version": 3
      },
      "file_extension": ".py",
      "mimetype": "text/x-python",
      "name": "python",
      "nbconvert_exporter": "python",
      "pygments_lexer": "ipython3",
      "version": "3.7.6"
    },
    "nteract": {
      "version": "0.23.1"
    },
    "colab": {
      "name": "Copy of LS_DS_432_Convolution_Neural_Networks_Assignment.ipynb",
      "provenance": []
    },
    "accelerator": "GPU"
  },
  "cells": [
    {
      "cell_type": "markdown",
      "metadata": {
        "id": "fc4yMj7mtCAZ",
        "colab_type": "text"
      },
      "source": [
        "<img align=\"left\" src=\"https://lever-client-logos.s3.amazonaws.com/864372b1-534c-480e-acd5-9711f850815c-1524247202159.png\" width=200>\n",
        "<br></br>\n",
        "<br></br>\n",
        "\n",
        "## *Data Science Unit 4 Sprint 3 Assignment 2*\n",
        "# Convolutional Neural Networks (CNNs)"
      ]
    },
    {
      "cell_type": "markdown",
      "metadata": {
        "colab_type": "text",
        "id": "0lfZdD_cp1t5"
      },
      "source": [
        "# Assignment\n",
        "\n",
        "- <a href=\"#p1\">Part 1:</a> Pre-Trained Model\n",
        "- <a href=\"#p2\">Part 2:</a> Custom CNN Model\n",
        "- <a href=\"#p3\">Part 3:</a> CNN with Data Augmentation\n",
        "\n",
        "\n",
        "You will apply three different CNN models to a binary image classification model using Keras. Classify images of Mountains (`./data/train/mountain/*`) and images of forests (`./data/train/forest/*`). Treat mountains as the positive class (1) and the forest images as the negative (zero). \n",
        "\n",
        "|Mountain (+)|Forest (-)|\n",
        "|---|---|\n",
        "|![](https://github.com/LambdaSchool/DS-Unit-4-Sprint-3-Deep-Learning/blob/main/module2-convolutional-neural-networks/data/train/mountain/art1131.jpg?raw=1)|![](https://github.com/LambdaSchool/DS-Unit-4-Sprint-3-Deep-Learning/blob/main/module2-convolutional-neural-networks/data/validation/forest/cdmc317.jpg?raw=1)|\n",
        "\n",
        "The problem is relatively difficult given that the sample is tiny: there are about 350 observations per class. This sample size might be something that you can expect with prototyping an image classification problem/solution at work. Get accustomed to evaluating several different possible models."
      ]
    },
    {
      "cell_type": "markdown",
      "metadata": {
        "colab_type": "text",
        "id": "1eawBP-otCAb"
      },
      "source": [
        "# Pre - Trained Model\n",
        "<a id=\"p1\"></a>\n",
        "\n",
        "Load a pretrained network from Keras, [ResNet50](https://tfhub.dev/google/imagenet/resnet_v1_50/classification/1) - a 50 layer deep network trained to recognize [1000 objects](https://storage.googleapis.com/download.tensorflow.org/data/ImageNetLabels.txt). Starting usage:\n",
        "\n",
        "```python\n",
        "import numpy as np\n",
        "\n",
        "from tensorflow.keras.applications.resnet50 import ResNet50\n",
        "from tensorflow.keras.preprocessing import image\n",
        "from tensorflow.keras.applications.resnet50 import preprocess_input, decode_predictions\n",
        "\n",
        "from tensorflow.keras.layers import Dense, GlobalAveragePooling2D\n",
        "from tensorflow.keras.models import Model # This is the functional API\n",
        "\n",
        "resnet = ResNet50(weights='imagenet', include_top=False)\n",
        "\n",
        "```\n",
        "\n",
        "The `include_top` parameter in `ResNet50` will remove the full connected layers from the ResNet model. The next step is to turn off the training of the ResNet layers. We want to use the learned parameters without updating them in future training passes. \n",
        "\n",
        "```python\n",
        "for layer in resnet.layers:\n",
        "    layer.trainable = False\n",
        "```\n",
        "\n",
        "Using the Keras functional API, we will need to additional additional full connected layers to our model. We we removed the top layers, we removed all preivous fully connected layers. In other words, we kept only the feature processing portions of our network. You can expert with additional layers beyond what's listed here. The `GlobalAveragePooling2D` layer functions as a really fancy flatten function by taking the average of each of the last convolutional layer outputs (which is two dimensional still). \n",
        "\n",
        "```python\n",
        "x = resnet.output\n",
        "x = GlobalAveragePooling2D()(x) # This layer is a really fancy flatten\n",
        "x = Dense(1024, activation='relu')(x)\n",
        "predictions = Dense(1, activation='sigmoid')(x)\n",
        "model = Model(resnet.input, predictions)\n",
        "```\n",
        "\n",
        "Your assignment is to apply the transfer learning above to classify images of Mountains (`./data/train/mountain/*`) and images of forests (`./data/train/forest/*`). Treat mountains as the positive class (1) and the forest images as the negative (zero). \n",
        "\n",
        "Steps to complete assignment: \n",
        "1. Load in Image Data into numpy arrays (`X`) \n",
        "2. Create a `y` for the labels\n",
        "3. Train your model with pre-trained layers from resnet\n",
        "4. Report your model's accuracy"
      ]
    },
    {
      "cell_type": "markdown",
      "metadata": {
        "id": "CLdGdXCatCAb",
        "colab_type": "text"
      },
      "source": [
        "## Load in Data\n",
        "\n",
        "This surprisingly more difficult than it seems, because you are working with directories of images instead of a single file. This boiler plate will help you download a zipped version of the directory of images. The directory is organized into \"train\" and \"validation\" which you can use inside an `ImageGenerator` class to stream batches of images thru your model.  \n"
      ]
    },
    {
      "cell_type": "markdown",
      "metadata": {
        "id": "moRVuHUqtCAc",
        "colab_type": "text"
      },
      "source": [
        "### Download & Summarize the Data\n",
        "\n",
        "This step is completed for you. Just run the cells and review the results. "
      ]
    },
    {
      "cell_type": "code",
      "metadata": {
        "id": "wJ773CBBrsCB",
        "colab_type": "code",
        "colab": {}
      },
      "source": [
        "import pandas as pd\n",
        "import numpy as np\n",
        "import tensorflow as tf\n",
        "import os\n",
        "import requests\n",
        "import matplotlib.pyplot as plt\n",
        "from tensorflow.keras.applications.resnet50 import ResNet50\n",
        "from tensorflow.keras.applications.resnet50 import preprocess_input, decode_predictions\n",
        "from tensorflow.keras.preprocessing import image\n",
        "from tensorflow.keras.layers import Dense, GlobalAveragePooling2D, Conv2D, MaxPooling2D, Flatten, Dropout\n",
        "from tensorflow.keras.models import Model\n",
        "from tensorflow.keras.models import Sequential"
      ],
      "execution_count": 1,
      "outputs": []
    },
    {
      "cell_type": "code",
      "metadata": {
        "id": "AR66H8o9tCAc",
        "colab_type": "code",
        "colab": {}
      },
      "source": [
        "_URL = 'https://github.com/LambdaSchool/DS-Unit-4-Sprint-3-Deep-Learning/blob/main/module2-convolutional-neural-networks/data.zip?raw=true'\n",
        "\n",
        "path_to_zip = tf.keras.utils.get_file('./data.zip', origin=_URL, extract=True)\n",
        "PATH = os.path.join(os.path.dirname(path_to_zip), 'data')"
      ],
      "execution_count": 2,
      "outputs": []
    },
    {
      "cell_type": "code",
      "metadata": {
        "id": "MNFsIu_KtCAg",
        "colab_type": "code",
        "colab": {}
      },
      "source": [
        "train_dir = os.path.join(PATH, 'train')\n",
        "validation_dir = os.path.join(PATH, 'validation')"
      ],
      "execution_count": 3,
      "outputs": []
    },
    {
      "cell_type": "code",
      "metadata": {
        "id": "OsI9BQLotCAj",
        "colab_type": "code",
        "colab": {}
      },
      "source": [
        "train_mountain_dir = os.path.join(train_dir, 'mountain')  # directory with our training cat pictures\n",
        "train_forest_dir = os.path.join(train_dir, 'forest')  # directory with our training dog pictures\n",
        "validation_mountain_dir = os.path.join(validation_dir, 'mountain')  # directory with our validation cat pictures\n",
        "validation_forest_dir = os.path.join(validation_dir, 'forest')  # directory with our validation dog pictures"
      ],
      "execution_count": 4,
      "outputs": []
    },
    {
      "cell_type": "code",
      "metadata": {
        "id": "NUs1e5-XtCAl",
        "colab_type": "code",
        "colab": {}
      },
      "source": [
        "num_mountain_tr = len(os.listdir(train_mountain_dir))\n",
        "num_forest_tr = len(os.listdir(train_forest_dir))\n",
        "\n",
        "num_mountain_val = len(os.listdir(validation_mountain_dir))\n",
        "num_forest_val = len(os.listdir(validation_forest_dir))\n",
        "\n",
        "total_train = num_mountain_tr + num_forest_tr\n",
        "total_val = num_mountain_val + num_forest_val"
      ],
      "execution_count": 5,
      "outputs": []
    },
    {
      "cell_type": "code",
      "metadata": {
        "id": "ZmklbgSMtCAn",
        "colab_type": "code",
        "colab": {
          "base_uri": "https://localhost:8080/",
          "height": 136
        },
        "outputId": "59d6bba3-4ea2-4dfc-a30a-e4ebebbf506f"
      },
      "source": [
        "print('total training mountain images:', num_mountain_tr)\n",
        "print('total training forest images:', num_forest_tr)\n",
        "\n",
        "print('total validation mountain images:', num_mountain_val)\n",
        "print('total validation forest images:', num_forest_val)\n",
        "print(\"--\")\n",
        "print(\"Total training images:\", total_train)\n",
        "print(\"Total validation images:\", total_val)"
      ],
      "execution_count": 6,
      "outputs": [
        {
          "output_type": "stream",
          "text": [
            "total training mountain images: 254\n",
            "total training forest images: 270\n",
            "total validation mountain images: 125\n",
            "total validation forest images: 62\n",
            "--\n",
            "Total training images: 524\n",
            "Total validation images: 187\n"
          ],
          "name": "stdout"
        }
      ]
    },
    {
      "cell_type": "markdown",
      "metadata": {
        "id": "dQ4ag4ultCAq",
        "colab_type": "text"
      },
      "source": [
        "### Keras `ImageGenerator` to Process the Data\n",
        "\n",
        "This step is completed for you, but please review the code. The `ImageGenerator` class reads in batches of data from a directory and pass them to the model one batch at a time. Just like large text files, this method is advantageous, because it stifles the need to load a bunch of images into memory. \n",
        "\n",
        "Check out the documentation for this class method: [Keras `ImageGenerator` Class](https://keras.io/preprocessing/image/#imagedatagenerator-class). You'll expand it's use in the third assignment objective."
      ]
    },
    {
      "cell_type": "code",
      "metadata": {
        "id": "67i9IW49tCAq",
        "colab_type": "code",
        "colab": {}
      },
      "source": [
        "batch_size = 16\n",
        "epochs = 50\n",
        "IMG_HEIGHT = 224\n",
        "IMG_WIDTH = 224"
      ],
      "execution_count": 7,
      "outputs": []
    },
    {
      "cell_type": "code",
      "metadata": {
        "id": "B1wNKMo1tCAt",
        "colab_type": "code",
        "colab": {}
      },
      "source": [
        "from tensorflow.keras.preprocessing.image import ImageDataGenerator\n",
        "\n",
        "train_image_generator = ImageDataGenerator(rescale=1./255) # Generator for our training data\n",
        "validation_image_generator = ImageDataGenerator(rescale=1./255) # Generator for our validation data"
      ],
      "execution_count": 8,
      "outputs": []
    },
    {
      "cell_type": "code",
      "metadata": {
        "id": "ndsuM4L9tCAv",
        "colab_type": "code",
        "colab": {
          "base_uri": "https://localhost:8080/",
          "height": 34
        },
        "outputId": "1d31824f-7a69-43e2-fa1c-f767eff90ff9"
      },
      "source": [
        "train_data_gen = train_image_generator.flow_from_directory(batch_size=batch_size,\n",
        "                                                           directory=train_dir,\n",
        "                                                           shuffle=True,\n",
        "                                                           target_size=(IMG_HEIGHT, IMG_WIDTH),\n",
        "                                                           class_mode='binary')"
      ],
      "execution_count": 9,
      "outputs": [
        {
          "output_type": "stream",
          "text": [
            "Found 533 images belonging to 2 classes.\n"
          ],
          "name": "stdout"
        }
      ]
    },
    {
      "cell_type": "code",
      "metadata": {
        "id": "9kxlk3optCAy",
        "colab_type": "code",
        "colab": {
          "base_uri": "https://localhost:8080/",
          "height": 34
        },
        "outputId": "3d228930-9cad-4c76-d1e6-ba51578b9720"
      },
      "source": [
        "val_data_gen = validation_image_generator.flow_from_directory(batch_size=batch_size,\n",
        "                                                              directory=validation_dir,\n",
        "                                                              target_size=(IMG_HEIGHT, IMG_WIDTH),\n",
        "                                                              class_mode='binary')"
      ],
      "execution_count": 10,
      "outputs": [
        {
          "output_type": "stream",
          "text": [
            "Found 195 images belonging to 2 classes.\n"
          ],
          "name": "stdout"
        }
      ]
    },
    {
      "cell_type": "markdown",
      "metadata": {
        "id": "2l7ue6NutCA0",
        "colab_type": "text"
      },
      "source": [
        "## Instatiate Model"
      ]
    },
    {
      "cell_type": "code",
      "metadata": {
        "id": "mKNIYOEItCA0",
        "colab_type": "code",
        "colab": {}
      },
      "source": [
        "resnet = ResNet50(weights='imagenet', include_top=False)"
      ],
      "execution_count": 11,
      "outputs": []
    },
    {
      "cell_type": "code",
      "metadata": {
        "id": "5KCb6CtNs94a",
        "colab_type": "code",
        "colab": {}
      },
      "source": [
        "for layer in resnet.layers:\n",
        "  layer.trainable = False"
      ],
      "execution_count": 12,
      "outputs": []
    },
    {
      "cell_type": "code",
      "metadata": {
        "id": "YoHihvDes9eY",
        "colab_type": "code",
        "colab": {}
      },
      "source": [
        "x = resnet.output\n",
        "x = GlobalAveragePooling2D()(x)\n",
        "x = Dense(1024, activation='relu')(x)"
      ],
      "execution_count": 13,
      "outputs": []
    },
    {
      "cell_type": "code",
      "metadata": {
        "id": "1M5w0bn2tfdb",
        "colab_type": "code",
        "colab": {}
      },
      "source": [
        "predictions = Dense(1, activation='sigmoid')(x)\n",
        "model = Model(resnet.input, predictions)\n",
        "model.compile(optimizer='adam', loss='binary_crossentropy', metrics=['binary_accuracy'])"
      ],
      "execution_count": 14,
      "outputs": []
    },
    {
      "cell_type": "markdown",
      "metadata": {
        "id": "BVPBWYG7tCA2",
        "colab_type": "text"
      },
      "source": [
        "## Fit Model"
      ]
    },
    {
      "cell_type": "code",
      "metadata": {
        "id": "H4XdvWA5tCA3",
        "colab_type": "code",
        "colab": {
          "base_uri": "https://localhost:8080/",
          "height": 1000
        },
        "outputId": "0f74a517-9538-4301-c829-72607bb72718"
      },
      "source": [
        "history = model.fit(\n",
        "    train_data_gen,\n",
        "    steps_per_epoch=total_train // batch_size,\n",
        "    epochs=epochs,\n",
        "    validation_data=val_data_gen,\n",
        "    validation_steps=total_val // batch_size\n",
        ")"
      ],
      "execution_count": 15,
      "outputs": [
        {
          "output_type": "stream",
          "text": [
            "Epoch 1/50\n",
            "32/32 [==============================] - 3s 96ms/step - loss: 1.0582 - binary_accuracy: 0.4850 - val_loss: 0.5955 - val_binary_accuracy: 0.6875\n",
            "Epoch 2/50\n",
            "32/32 [==============================] - 2s 67ms/step - loss: 0.7730 - binary_accuracy: 0.5549 - val_loss: 0.6656 - val_binary_accuracy: 0.6705\n",
            "Epoch 3/50\n",
            "32/32 [==============================] - 2s 67ms/step - loss: 0.5860 - binary_accuracy: 0.6806 - val_loss: 0.5646 - val_binary_accuracy: 0.7727\n",
            "Epoch 4/50\n",
            "32/32 [==============================] - 2s 66ms/step - loss: 0.5203 - binary_accuracy: 0.7824 - val_loss: 0.5247 - val_binary_accuracy: 0.7784\n",
            "Epoch 5/50\n",
            "32/32 [==============================] - 2s 65ms/step - loss: 0.5416 - binary_accuracy: 0.7066 - val_loss: 0.4477 - val_binary_accuracy: 0.7841\n",
            "Epoch 6/50\n",
            "32/32 [==============================] - 2s 66ms/step - loss: 0.4518 - binary_accuracy: 0.8184 - val_loss: 0.4402 - val_binary_accuracy: 0.8693\n",
            "Epoch 7/50\n",
            "32/32 [==============================] - 2s 66ms/step - loss: 0.4188 - binary_accuracy: 0.8503 - val_loss: 0.5093 - val_binary_accuracy: 0.7784\n",
            "Epoch 8/50\n",
            "32/32 [==============================] - 2s 66ms/step - loss: 0.4501 - binary_accuracy: 0.7844 - val_loss: 0.8658 - val_binary_accuracy: 0.4773\n",
            "Epoch 9/50\n",
            "32/32 [==============================] - 2s 67ms/step - loss: 0.4492 - binary_accuracy: 0.7884 - val_loss: 0.5012 - val_binary_accuracy: 0.7841\n",
            "Epoch 10/50\n",
            "32/32 [==============================] - 2s 65ms/step - loss: 0.3740 - binary_accuracy: 0.8563 - val_loss: 0.4018 - val_binary_accuracy: 0.8523\n",
            "Epoch 11/50\n",
            "32/32 [==============================] - 2s 67ms/step - loss: 0.3586 - binary_accuracy: 0.8643 - val_loss: 0.5049 - val_binary_accuracy: 0.7841\n",
            "Epoch 12/50\n",
            "32/32 [==============================] - 2s 65ms/step - loss: 0.3941 - binary_accuracy: 0.8224 - val_loss: 0.4122 - val_binary_accuracy: 0.8523\n",
            "Epoch 13/50\n",
            "32/32 [==============================] - 2s 66ms/step - loss: 0.2888 - binary_accuracy: 0.9142 - val_loss: 0.3049 - val_binary_accuracy: 0.8977\n",
            "Epoch 14/50\n",
            "32/32 [==============================] - 2s 65ms/step - loss: 0.2735 - binary_accuracy: 0.9222 - val_loss: 0.3016 - val_binary_accuracy: 0.9034\n",
            "Epoch 15/50\n",
            "32/32 [==============================] - 2s 65ms/step - loss: 0.2916 - binary_accuracy: 0.8842 - val_loss: 0.2893 - val_binary_accuracy: 0.9034\n",
            "Epoch 16/50\n",
            "32/32 [==============================] - 2s 66ms/step - loss: 0.2428 - binary_accuracy: 0.9321 - val_loss: 0.4403 - val_binary_accuracy: 0.8352\n",
            "Epoch 17/50\n",
            "32/32 [==============================] - 2s 64ms/step - loss: 0.2445 - binary_accuracy: 0.9321 - val_loss: 0.2814 - val_binary_accuracy: 0.8977\n",
            "Epoch 18/50\n",
            "32/32 [==============================] - 2s 65ms/step - loss: 0.2265 - binary_accuracy: 0.9381 - val_loss: 0.2607 - val_binary_accuracy: 0.9375\n",
            "Epoch 19/50\n",
            "32/32 [==============================] - 2s 65ms/step - loss: 0.2453 - binary_accuracy: 0.9082 - val_loss: 0.2803 - val_binary_accuracy: 0.8807\n",
            "Epoch 20/50\n",
            "32/32 [==============================] - 2s 65ms/step - loss: 0.2541 - binary_accuracy: 0.9062 - val_loss: 0.2668 - val_binary_accuracy: 0.8920\n",
            "Epoch 21/50\n",
            "32/32 [==============================] - 2s 67ms/step - loss: 0.2447 - binary_accuracy: 0.9042 - val_loss: 0.2937 - val_binary_accuracy: 0.8636\n",
            "Epoch 22/50\n",
            "32/32 [==============================] - 2s 65ms/step - loss: 0.1831 - binary_accuracy: 0.9401 - val_loss: 0.2126 - val_binary_accuracy: 0.9489\n",
            "Epoch 23/50\n",
            "32/32 [==============================] - 2s 66ms/step - loss: 0.1969 - binary_accuracy: 0.9281 - val_loss: 0.2320 - val_binary_accuracy: 0.9375\n",
            "Epoch 24/50\n",
            "32/32 [==============================] - 2s 65ms/step - loss: 0.1909 - binary_accuracy: 0.9401 - val_loss: 0.2875 - val_binary_accuracy: 0.8580\n",
            "Epoch 25/50\n",
            "32/32 [==============================] - 2s 65ms/step - loss: 0.1691 - binary_accuracy: 0.9381 - val_loss: 0.3049 - val_binary_accuracy: 0.8523\n",
            "Epoch 26/50\n",
            "32/32 [==============================] - 2s 66ms/step - loss: 0.1746 - binary_accuracy: 0.9321 - val_loss: 0.2054 - val_binary_accuracy: 0.9489\n",
            "Epoch 27/50\n",
            "32/32 [==============================] - 2s 65ms/step - loss: 0.1807 - binary_accuracy: 0.9242 - val_loss: 0.3404 - val_binary_accuracy: 0.8011\n",
            "Epoch 28/50\n",
            "32/32 [==============================] - 2s 64ms/step - loss: 0.2840 - binary_accuracy: 0.8663 - val_loss: 0.6521 - val_binary_accuracy: 0.7045\n",
            "Epoch 29/50\n",
            "32/32 [==============================] - 2s 64ms/step - loss: 0.2210 - binary_accuracy: 0.9142 - val_loss: 0.3619 - val_binary_accuracy: 0.8523\n",
            "Epoch 30/50\n",
            "32/32 [==============================] - 2s 65ms/step - loss: 0.1302 - binary_accuracy: 0.9621 - val_loss: 0.2242 - val_binary_accuracy: 0.9034\n",
            "Epoch 31/50\n",
            "32/32 [==============================] - 2s 66ms/step - loss: 0.1761 - binary_accuracy: 0.9142 - val_loss: 0.2389 - val_binary_accuracy: 0.9034\n",
            "Epoch 32/50\n",
            "32/32 [==============================] - 2s 68ms/step - loss: 0.1663 - binary_accuracy: 0.9375 - val_loss: 0.3233 - val_binary_accuracy: 0.8636\n",
            "Epoch 33/50\n",
            "32/32 [==============================] - 2s 64ms/step - loss: 0.1495 - binary_accuracy: 0.9421 - val_loss: 0.2015 - val_binary_accuracy: 0.9375\n",
            "Epoch 34/50\n",
            "32/32 [==============================] - 2s 64ms/step - loss: 0.1267 - binary_accuracy: 0.9581 - val_loss: 0.5446 - val_binary_accuracy: 0.7784\n",
            "Epoch 35/50\n",
            "32/32 [==============================] - 2s 65ms/step - loss: 0.1326 - binary_accuracy: 0.9561 - val_loss: 0.3797 - val_binary_accuracy: 0.8523\n",
            "Epoch 36/50\n",
            "32/32 [==============================] - 2s 65ms/step - loss: 0.1065 - binary_accuracy: 0.9681 - val_loss: 0.2587 - val_binary_accuracy: 0.9148\n",
            "Epoch 37/50\n",
            "32/32 [==============================] - 2s 65ms/step - loss: 0.1181 - binary_accuracy: 0.9551 - val_loss: 0.1980 - val_binary_accuracy: 0.9375\n",
            "Epoch 38/50\n",
            "32/32 [==============================] - 2s 64ms/step - loss: 0.1286 - binary_accuracy: 0.9521 - val_loss: 0.2530 - val_binary_accuracy: 0.8864\n",
            "Epoch 39/50\n",
            "32/32 [==============================] - 2s 65ms/step - loss: 0.1831 - binary_accuracy: 0.9202 - val_loss: 0.1887 - val_binary_accuracy: 0.9432\n",
            "Epoch 40/50\n",
            "32/32 [==============================] - 2s 64ms/step - loss: 0.1088 - binary_accuracy: 0.9681 - val_loss: 0.1681 - val_binary_accuracy: 0.9602\n",
            "Epoch 41/50\n",
            "32/32 [==============================] - 2s 64ms/step - loss: 0.1226 - binary_accuracy: 0.9551 - val_loss: 0.2400 - val_binary_accuracy: 0.9148\n",
            "Epoch 42/50\n",
            "32/32 [==============================] - 2s 65ms/step - loss: 0.0998 - binary_accuracy: 0.9641 - val_loss: 0.2249 - val_binary_accuracy: 0.9318\n",
            "Epoch 43/50\n",
            "32/32 [==============================] - 2s 65ms/step - loss: 0.1329 - binary_accuracy: 0.9481 - val_loss: 0.4446 - val_binary_accuracy: 0.8182\n",
            "Epoch 44/50\n",
            "32/32 [==============================] - 2s 66ms/step - loss: 0.1677 - binary_accuracy: 0.9281 - val_loss: 0.2473 - val_binary_accuracy: 0.8864\n",
            "Epoch 45/50\n",
            "32/32 [==============================] - 2s 65ms/step - loss: 0.1227 - binary_accuracy: 0.9421 - val_loss: 0.3736 - val_binary_accuracy: 0.8466\n",
            "Epoch 46/50\n",
            "32/32 [==============================] - 2s 65ms/step - loss: 0.1401 - binary_accuracy: 0.9361 - val_loss: 0.5011 - val_binary_accuracy: 0.7955\n",
            "Epoch 47/50\n",
            "32/32 [==============================] - 2s 67ms/step - loss: 0.1796 - binary_accuracy: 0.9222 - val_loss: 0.1949 - val_binary_accuracy: 0.9375\n",
            "Epoch 48/50\n",
            "32/32 [==============================] - 2s 66ms/step - loss: 0.1020 - binary_accuracy: 0.9561 - val_loss: 0.3375 - val_binary_accuracy: 0.8693\n",
            "Epoch 49/50\n",
            "32/32 [==============================] - 2s 65ms/step - loss: 0.0933 - binary_accuracy: 0.9668 - val_loss: 0.1834 - val_binary_accuracy: 0.9375\n",
            "Epoch 50/50\n",
            "32/32 [==============================] - 2s 64ms/step - loss: 0.0815 - binary_accuracy: 0.9741 - val_loss: 0.1653 - val_binary_accuracy: 0.9432\n"
          ],
          "name": "stdout"
        }
      ]
    },
    {
      "cell_type": "code",
      "metadata": {
        "id": "YXCdA8Ksjz0-",
        "colab_type": "code",
        "colab": {
          "base_uri": "https://localhost:8080/",
          "height": 621
        },
        "outputId": "9800fcd2-e950-4e7d-d746-b7fdf07d71c8"
      },
      "source": [
        "acc = history.history['binary_accuracy']\n",
        "val_acc = history.history['val_binary_accuracy']\n",
        "\n",
        "loss = history.history['loss']\n",
        "val_loss = history.history['val_loss']\n",
        "\n",
        "plt.figure(figsize=(10, 10))\n",
        "plt.subplot(2, 1, 1)\n",
        "plt.plot(acc, label='train acc')\n",
        "plt.plot(val_acc, label='val acc')\n",
        "plt.legend(loc='lower right')\n",
        "plt.ylabel('acc')\n",
        "plt.ylim([min(plt.ylim()),1])\n",
        "plt.title('accuracy')\n",
        "\n",
        "plt.subplot(2, 1, 2)\n",
        "plt.plot(loss, label='train loss')\n",
        "plt.plot(val_loss, label='val loss')\n",
        "plt.legend(loc='upper right')\n",
        "plt.ylabel('cross entropy')\n",
        "plt.ylim([0,1.0])\n",
        "plt.xlabel('epoch')\n",
        "plt.title('loss')\n",
        "plt.show()"
      ],
      "execution_count": 16,
      "outputs": [
        {
          "output_type": "display_data",
          "data": {
            "image/png": "[encoded data removed]",
            "text/plain": [
              "<Figure size 720x720 with 2 Axes>"
            ]
          },
          "metadata": {
            "tags": [],
            "needs_background": "light"
          }
        }
      ]
    },
    {
      "cell_type": "markdown",
      "metadata": {
        "id": "UPzsgS94tCA5",
        "colab_type": "text"
      },
      "source": [
        "# Custom CNN Model\n",
        "\n",
        "In this step, write and train your own convolutional neural network using Keras. You can use any architecture that suits you as long as it has at least one convolutional and one pooling layer at the beginning of the network - you can add more if you want. "
      ]
    },
    {
      "cell_type": "code",
      "metadata": {
        "id": "hnbJJie3tCA5",
        "colab_type": "code",
        "colab": {}
      },
      "source": [
        "# Define the Model\n",
        "\n",
        "model = Sequential()\n",
        "model.add(Conv2D(32, (3,3), activation='relu', input_shape=(IMG_HEIGHT, IMG_WIDTH, 3)))\n",
        "model.add(MaxPooling2D((2,2)))\n",
        "model.add(Dropout(0.2))\n",
        "\n",
        "model.add(Conv2D(16, (3,3), activation='relu'))\n",
        "model.add(MaxPooling2D((2,2)))\n",
        "model.add(Dropout(0.2))\n",
        "\n",
        "model.add(Conv2D(32, (3,3), activation='relu'))\n",
        "model.add(Flatten())\n",
        "model.add(Dense(32, activation='relu'))\n",
        "model.add(Dropout(0.2))\n",
        "\n",
        "model.add(Dense(1, activation='sigmoid'))"
      ],
      "execution_count": 17,
      "outputs": []
    },
    {
      "cell_type": "code",
      "metadata": {
        "id": "1P_mRtoutCA9",
        "colab_type": "code",
        "colab": {}
      },
      "source": [
        "# Compile Model\n",
        "\n",
        "model.compile(optimizer='adam', loss='sparse_categorical_crossentropy', metrics=['accuracy'])"
      ],
      "execution_count": 18,
      "outputs": []
    },
    {
      "cell_type": "code",
      "metadata": {
        "id": "CwM4GsaetCA_",
        "colab_type": "code",
        "colab": {
          "base_uri": "https://localhost:8080/",
          "height": 1000
        },
        "outputId": "693820a0-6dc9-4145-a12a-9879c2e0f855"
      },
      "source": [
        "# Fit Model\n",
        "\n",
        "model_c = model.fit(\n",
        "    train_data_gen,\n",
        "    epochs=50,\n",
        "    validation_data=val_data_gen\n",
        ")"
      ],
      "execution_count": 19,
      "outputs": [
        {
          "output_type": "stream",
          "text": [
            "Epoch 1/50\n",
            "34/34 [==============================] - 2s 58ms/step - loss: nan - accuracy: 0.5253 - val_loss: nan - val_accuracy: 0.3436\n",
            "Epoch 2/50\n",
            "34/34 [==============================] - 2s 52ms/step - loss: nan - accuracy: 0.5159 - val_loss: nan - val_accuracy: 0.3436\n",
            "Epoch 3/50\n",
            "34/34 [==============================] - 2s 53ms/step - loss: nan - accuracy: 0.5159 - val_loss: nan - val_accuracy: 0.3436\n",
            "Epoch 4/50\n",
            "34/34 [==============================] - 2s 52ms/step - loss: nan - accuracy: 0.5159 - val_loss: nan - val_accuracy: 0.3436\n",
            "Epoch 5/50\n",
            "34/34 [==============================] - 2s 53ms/step - loss: nan - accuracy: 0.5159 - val_loss: nan - val_accuracy: 0.3436\n",
            "Epoch 6/50\n",
            "34/34 [==============================] - 2s 52ms/step - loss: nan - accuracy: 0.5159 - val_loss: nan - val_accuracy: 0.3436\n",
            "Epoch 7/50\n",
            "34/34 [==============================] - 2s 53ms/step - loss: nan - accuracy: 0.5159 - val_loss: nan - val_accuracy: 0.3436\n",
            "Epoch 8/50\n",
            "34/34 [==============================] - 2s 54ms/step - loss: nan - accuracy: 0.5159 - val_loss: nan - val_accuracy: 0.3436\n",
            "Epoch 9/50\n",
            "34/34 [==============================] - 2s 55ms/step - loss: nan - accuracy: 0.5159 - val_loss: nan - val_accuracy: 0.3436\n",
            "Epoch 10/50\n",
            "34/34 [==============================] - 2s 54ms/step - loss: nan - accuracy: 0.5159 - val_loss: nan - val_accuracy: 0.3436\n",
            "Epoch 11/50\n",
            "34/34 [==============================] - 2s 53ms/step - loss: nan - accuracy: 0.5159 - val_loss: nan - val_accuracy: 0.3436\n",
            "Epoch 12/50\n",
            "34/34 [==============================] - 2s 53ms/step - loss: nan - accuracy: 0.5159 - val_loss: nan - val_accuracy: 0.3436\n",
            "Epoch 13/50\n",
            "34/34 [==============================] - 2s 53ms/step - loss: nan - accuracy: 0.5159 - val_loss: nan - val_accuracy: 0.3436\n",
            "Epoch 14/50\n",
            "34/34 [==============================] - 2s 52ms/step - loss: nan - accuracy: 0.5159 - val_loss: nan - val_accuracy: 0.3436\n",
            "Epoch 15/50\n",
            "34/34 [==============================] - 2s 52ms/step - loss: nan - accuracy: 0.5159 - val_loss: nan - val_accuracy: 0.3436\n",
            "Epoch 16/50\n",
            "34/34 [==============================] - 2s 52ms/step - loss: nan - accuracy: 0.5159 - val_loss: nan - val_accuracy: 0.3436\n",
            "Epoch 17/50\n",
            "34/34 [==============================] - 2s 53ms/step - loss: nan - accuracy: 0.5159 - val_loss: nan - val_accuracy: 0.3436\n",
            "Epoch 18/50\n",
            "34/34 [==============================] - 2s 53ms/step - loss: nan - accuracy: 0.5159 - val_loss: nan - val_accuracy: 0.3436\n",
            "Epoch 19/50\n",
            "34/34 [==============================] - 2s 52ms/step - loss: nan - accuracy: 0.5159 - val_loss: nan - val_accuracy: 0.3436\n",
            "Epoch 20/50\n",
            "34/34 [==============================] - 2s 53ms/step - loss: nan - accuracy: 0.5159 - val_loss: nan - val_accuracy: 0.3436\n",
            "Epoch 21/50\n",
            "34/34 [==============================] - 2s 52ms/step - loss: nan - accuracy: 0.5159 - val_loss: nan - val_accuracy: 0.3436\n",
            "Epoch 22/50\n",
            "34/34 [==============================] - 2s 55ms/step - loss: nan - accuracy: 0.5159 - val_loss: nan - val_accuracy: 0.3436\n",
            "Epoch 23/50\n",
            "34/34 [==============================] - 2s 54ms/step - loss: nan - accuracy: 0.5159 - val_loss: nan - val_accuracy: 0.3436\n",
            "Epoch 24/50\n",
            "34/34 [==============================] - 2s 53ms/step - loss: nan - accuracy: 0.5159 - val_loss: nan - val_accuracy: 0.3436\n",
            "Epoch 25/50\n",
            "34/34 [==============================] - 2s 52ms/step - loss: nan - accuracy: 0.5159 - val_loss: nan - val_accuracy: 0.3436\n",
            "Epoch 26/50\n",
            "34/34 [==============================] - 2s 52ms/step - loss: nan - accuracy: 0.5159 - val_loss: nan - val_accuracy: 0.3436\n",
            "Epoch 27/50\n",
            "34/34 [==============================] - 2s 52ms/step - loss: nan - accuracy: 0.5159 - val_loss: nan - val_accuracy: 0.3436\n",
            "Epoch 28/50\n",
            "34/34 [==============================] - 2s 53ms/step - loss: nan - accuracy: 0.5159 - val_loss: nan - val_accuracy: 0.3436\n",
            "Epoch 29/50\n",
            "34/34 [==============================] - 2s 52ms/step - loss: nan - accuracy: 0.5159 - val_loss: nan - val_accuracy: 0.3436\n",
            "Epoch 30/50\n",
            "34/34 [==============================] - 2s 53ms/step - loss: nan - accuracy: 0.5159 - val_loss: nan - val_accuracy: 0.3436\n",
            "Epoch 31/50\n",
            "34/34 [==============================] - 2s 52ms/step - loss: nan - accuracy: 0.5159 - val_loss: nan - val_accuracy: 0.3436\n",
            "Epoch 32/50\n",
            "34/34 [==============================] - 2s 52ms/step - loss: nan - accuracy: 0.5159 - val_loss: nan - val_accuracy: 0.3436\n",
            "Epoch 33/50\n",
            "34/34 [==============================] - 2s 53ms/step - loss: nan - accuracy: 0.5159 - val_loss: nan - val_accuracy: 0.3436\n",
            "Epoch 34/50\n",
            "34/34 [==============================] - 2s 53ms/step - loss: nan - accuracy: 0.5159 - val_loss: nan - val_accuracy: 0.3436\n",
            "Epoch 35/50\n",
            "34/34 [==============================] - 2s 53ms/step - loss: nan - accuracy: 0.5159 - val_loss: nan - val_accuracy: 0.3436\n",
            "Epoch 36/50\n",
            "34/34 [==============================] - 2s 52ms/step - loss: nan - accuracy: 0.5159 - val_loss: nan - val_accuracy: 0.3436\n",
            "Epoch 37/50\n",
            "34/34 [==============================] - 2s 53ms/step - loss: nan - accuracy: 0.5159 - val_loss: nan - val_accuracy: 0.3436\n",
            "Epoch 38/50\n",
            "34/34 [==============================] - 2s 52ms/step - loss: nan - accuracy: 0.5159 - val_loss: nan - val_accuracy: 0.3436\n",
            "Epoch 39/50\n",
            "34/34 [==============================] - 2s 53ms/step - loss: nan - accuracy: 0.5159 - val_loss: nan - val_accuracy: 0.3436\n",
            "Epoch 40/50\n",
            "34/34 [==============================] - 2s 54ms/step - loss: nan - accuracy: 0.5159 - val_loss: nan - val_accuracy: 0.3436\n",
            "Epoch 41/50\n",
            "34/34 [==============================] - 2s 56ms/step - loss: nan - accuracy: 0.5159 - val_loss: nan - val_accuracy: 0.3436\n",
            "Epoch 42/50\n",
            "34/34 [==============================] - 2s 54ms/step - loss: nan - accuracy: 0.5159 - val_loss: nan - val_accuracy: 0.3436\n",
            "Epoch 43/50\n",
            "34/34 [==============================] - 2s 51ms/step - loss: nan - accuracy: 0.5159 - val_loss: nan - val_accuracy: 0.3436\n",
            "Epoch 44/50\n",
            "34/34 [==============================] - 2s 52ms/step - loss: nan - accuracy: 0.5159 - val_loss: nan - val_accuracy: 0.3436\n",
            "Epoch 45/50\n",
            "34/34 [==============================] - 2s 53ms/step - loss: nan - accuracy: 0.5159 - val_loss: nan - val_accuracy: 0.3436\n",
            "Epoch 46/50\n",
            "34/34 [==============================] - 2s 53ms/step - loss: nan - accuracy: 0.5159 - val_loss: nan - val_accuracy: 0.3436\n",
            "Epoch 47/50\n",
            "34/34 [==============================] - 2s 52ms/step - loss: nan - accuracy: 0.5159 - val_loss: nan - val_accuracy: 0.3436\n",
            "Epoch 48/50\n",
            "34/34 [==============================] - 2s 51ms/step - loss: nan - accuracy: 0.5159 - val_loss: nan - val_accuracy: 0.3436\n",
            "Epoch 49/50\n",
            "34/34 [==============================] - 2s 52ms/step - loss: nan - accuracy: 0.5159 - val_loss: nan - val_accuracy: 0.3436\n",
            "Epoch 50/50\n",
            "34/34 [==============================] - 2s 53ms/step - loss: nan - accuracy: 0.5159 - val_loss: nan - val_accuracy: 0.3436\n"
          ],
          "name": "stdout"
        }
      ]
    },
    {
      "cell_type": "code",
      "metadata": {
        "id": "2vULXmGwoJcz",
        "colab_type": "code",
        "colab": {
          "base_uri": "https://localhost:8080/",
          "height": 51
        },
        "outputId": "6f7023c4-1139-4316-b28b-e5f53259866c"
      },
      "source": [
        "model.evaluate(val_data_gen)"
      ],
      "execution_count": 20,
      "outputs": [
        {
          "output_type": "stream",
          "text": [
            "13/13 [==============================] - 0s 31ms/step - loss: nan - accuracy: 0.3436\n"
          ],
          "name": "stdout"
        },
        {
          "output_type": "execute_result",
          "data": {
            "text/plain": [
              "[nan, 0.34358975291252136]"
            ]
          },
          "metadata": {
            "tags": []
          },
          "execution_count": 20
        }
      ]
    },
    {
      "cell_type": "code",
      "metadata": {
        "id": "r4DtEY6_oIcA",
        "colab_type": "code",
        "colab": {
          "base_uri": "https://localhost:8080/",
          "height": 621
        },
        "outputId": "7d254955-b22e-4759-c2fd-75c8d7e54398"
      },
      "source": [
        "acc = history.history['binary_accuracy']\n",
        "val_acc = history.history['val_binary_accuracy']\n",
        "loss = history.history['loss']\n",
        "val_loss = history.history['val_loss']\n",
        "\n",
        "plt.figure(figsize=(10, 10))\n",
        "plt.subplot(2, 1, 1)\n",
        "plt.plot(acc, label='train acc')\n",
        "plt.plot(val_acc, label='val acc')\n",
        "plt.legend(loc='lower right')\n",
        "plt.ylabel('acc')\n",
        "plt.ylim([min(plt.ylim()),1])\n",
        "plt.title('accuracy')\n",
        "\n",
        "plt.subplot(2, 1, 2)\n",
        "plt.plot(loss, label='train loss')\n",
        "plt.plot(val_loss, label='val loss')\n",
        "plt.legend(loc='upper right')\n",
        "plt.ylabel('cross entropy')\n",
        "plt.ylim([0,1.0])\n",
        "plt.xlabel('epoch')\n",
        "plt.title('loss')\n",
        "plt.show()"
      ],
      "execution_count": 21,
      "outputs": [
        {
          "output_type": "display_data",
          "data": {
            "image/png": "[encoded data removed]",
            "text/plain": [
              "<Figure size 720x720 with 2 Axes>"
            ]
          },
          "metadata": {
            "tags": [],
            "needs_background": "light"
          }
        }
      ]
    },
    {
      "cell_type": "markdown",
      "metadata": {
        "id": "FNTHjUddtCBB",
        "colab_type": "text"
      },
      "source": [
        "# Custom CNN Model with Image Manipulations\n",
        "\n",
        "To simulate an increase in a sample of image, you can apply image manipulation techniques: cropping, rotation, stretching, etc. Luckily Keras has some handy functions for us to apply these techniques to our mountain and forest example. Simply, you should be able to modify our image generator for the problem. Check out these resources to help you get started: \n",
        "\n",
        "1. [Keras `ImageGenerator` Class](https://keras.io/preprocessing/image/#imagedatagenerator-class)\n",
        "2. [Building a powerful image classifier with very little data](https://blog.keras.io/building-powerful-image-classification-models-using-very-little-data.html)\n",
        " "
      ]
    },
    {
      "cell_type": "code",
      "metadata": {
        "id": "aatkW0OXw0Gd",
        "colab_type": "code",
        "colab": {}
      },
      "source": [
        "train_image_generator = ImageDataGenerator(rescale=1./255, rotation_range=90, width_shift_range=.5, height_shift_range=.5)\n",
        "validation_image_generator = ImageDataGenerator(rescale=1./255, rotation_range=90, width_shift_range=.5, height_shift_range=.5)"
      ],
      "execution_count": 28,
      "outputs": []
    },
    {
      "cell_type": "code",
      "metadata": {
        "id": "pLjUz9HSw0AS",
        "colab_type": "code",
        "colab": {
          "base_uri": "https://localhost:8080/",
          "height": 34
        },
        "outputId": "75641e26-05c0-42c0-9130-5110d0b6d88e"
      },
      "source": [
        "train_data_gen = train_image_generator.flow_from_directory(batch_size=batch_size,\n",
        "                                                           directory=train_dir,\n",
        "                                                           shuffle=True,\n",
        "                                                           target_size=(IMG_HEIGHT, IMG_WIDTH),\n",
        "                                                           class_mode='binary')"
      ],
      "execution_count": 23,
      "outputs": [
        {
          "output_type": "stream",
          "text": [
            "Found 533 images belonging to 2 classes.\n"
          ],
          "name": "stdout"
        }
      ]
    },
    {
      "cell_type": "code",
      "metadata": {
        "id": "siRcTThSwz62",
        "colab_type": "code",
        "colab": {
          "base_uri": "https://localhost:8080/",
          "height": 34
        },
        "outputId": "e21e23ef-ce3b-49bf-d1b0-4d86b6b719dc"
      },
      "source": [
        "val_data_gen = validation_image_generator.flow_from_directory(batch_size=batch_size,\n",
        "                                                              directory=validation_dir,\n",
        "                                                              target_size=(IMG_HEIGHT, IMG_WIDTH),\n",
        "                                                              class_mode='binary')\n"
      ],
      "execution_count": 24,
      "outputs": [
        {
          "output_type": "stream",
          "text": [
            "Found 195 images belonging to 2 classes.\n"
          ],
          "name": "stdout"
        }
      ]
    },
    {
      "cell_type": "code",
      "metadata": {
        "id": "--g7G6Zxwzym",
        "colab_type": "code",
        "colab": {}
      },
      "source": [
        "model = Sequential()\n",
        "model.add(Conv2D(32, (3,3), activation='relu', input_shape=(IMG_HEIGHT, IMG_WIDTH, 3)))\n",
        "model.add(MaxPooling2D((2,2)))\n",
        "model.add(Dropout(0.2))\n",
        "\n",
        "model.add(Conv2D(32, (3,3), activation='relu'))\n",
        "model.add(Flatten())\n",
        "model.add(Dense(16, activation='relu'))\n",
        "model.add(Dropout(0.2))\n",
        "model.add(Dense(1, activation='sigmoid'))"
      ],
      "execution_count": 25,
      "outputs": []
    },
    {
      "cell_type": "code",
      "metadata": {
        "id": "xWQ3zLJcwzpB",
        "colab_type": "code",
        "colab": {}
      },
      "source": [
        "model.compile(optimizer='adam', loss='binary_crossentropy', metrics=['binary_accuracy'])"
      ],
      "execution_count": 26,
      "outputs": []
    },
    {
      "cell_type": "code",
      "metadata": {
        "id": "qfuCR_7uwyh5",
        "colab_type": "code",
        "colab": {
          "base_uri": "https://localhost:8080/",
          "height": 867
        },
        "outputId": "b6e71614-ef24-4d5e-89b4-80aca11276b7"
      },
      "source": [
        "model_i = model.fit(\n",
        "    train_data_gen,\n",
        "    epochs=25,\n",
        "    validation_data=val_data_gen\n",
        ")"
      ],
      "execution_count": 29,
      "outputs": [
        {
          "output_type": "stream",
          "text": [
            "Epoch 1/25\n",
            "34/34 [==============================] - 9s 263ms/step - loss: 0.6927 - binary_accuracy: 0.5159 - val_loss: 0.7026 - val_binary_accuracy: 0.3436\n",
            "Epoch 2/25\n",
            "34/34 [==============================] - 9s 259ms/step - loss: 0.6927 - binary_accuracy: 0.5159 - val_loss: 0.7028 - val_binary_accuracy: 0.3436\n",
            "Epoch 3/25\n",
            "34/34 [==============================] - 9s 261ms/step - loss: 0.6927 - binary_accuracy: 0.5159 - val_loss: 0.7030 - val_binary_accuracy: 0.3436\n",
            "Epoch 4/25\n",
            "34/34 [==============================] - 9s 257ms/step - loss: 0.6927 - binary_accuracy: 0.5159 - val_loss: 0.7034 - val_binary_accuracy: 0.3436\n",
            "Epoch 5/25\n",
            "34/34 [==============================] - 9s 258ms/step - loss: 0.6927 - binary_accuracy: 0.5159 - val_loss: 0.7021 - val_binary_accuracy: 0.3436\n",
            "Epoch 6/25\n",
            "34/34 [==============================] - 9s 256ms/step - loss: 0.6927 - binary_accuracy: 0.5159 - val_loss: 0.7024 - val_binary_accuracy: 0.3436\n",
            "Epoch 7/25\n",
            "34/34 [==============================] - 9s 256ms/step - loss: 0.6927 - binary_accuracy: 0.5159 - val_loss: 0.7028 - val_binary_accuracy: 0.3436\n",
            "Epoch 8/25\n",
            "34/34 [==============================] - 9s 257ms/step - loss: 0.6927 - binary_accuracy: 0.5159 - val_loss: 0.7031 - val_binary_accuracy: 0.3436\n",
            "Epoch 9/25\n",
            "34/34 [==============================] - 9s 254ms/step - loss: 0.6926 - binary_accuracy: 0.5159 - val_loss: 0.7033 - val_binary_accuracy: 0.3436\n",
            "Epoch 10/25\n",
            "34/34 [==============================] - 9s 256ms/step - loss: 0.6927 - binary_accuracy: 0.5159 - val_loss: 0.7030 - val_binary_accuracy: 0.3436\n",
            "Epoch 11/25\n",
            "34/34 [==============================] - 9s 255ms/step - loss: 0.6928 - binary_accuracy: 0.5159 - val_loss: 0.7038 - val_binary_accuracy: 0.3436\n",
            "Epoch 12/25\n",
            "34/34 [==============================] - 9s 259ms/step - loss: 0.6926 - binary_accuracy: 0.5159 - val_loss: 0.7029 - val_binary_accuracy: 0.3436\n",
            "Epoch 13/25\n",
            "34/34 [==============================] - 9s 252ms/step - loss: 0.6927 - binary_accuracy: 0.5159 - val_loss: 0.7026 - val_binary_accuracy: 0.3436\n",
            "Epoch 14/25\n",
            "34/34 [==============================] - 9s 258ms/step - loss: 0.6927 - binary_accuracy: 0.5159 - val_loss: 0.7029 - val_binary_accuracy: 0.3436\n",
            "Epoch 15/25\n",
            "34/34 [==============================] - 9s 251ms/step - loss: 0.6927 - binary_accuracy: 0.5159 - val_loss: 0.7030 - val_binary_accuracy: 0.3436\n",
            "Epoch 16/25\n",
            "34/34 [==============================] - 9s 252ms/step - loss: 0.6927 - binary_accuracy: 0.5159 - val_loss: 0.7030 - val_binary_accuracy: 0.3436\n",
            "Epoch 17/25\n",
            "34/34 [==============================] - 9s 261ms/step - loss: 0.6927 - binary_accuracy: 0.5159 - val_loss: 0.7028 - val_binary_accuracy: 0.3436\n",
            "Epoch 18/25\n",
            "34/34 [==============================] - 9s 257ms/step - loss: 0.6927 - binary_accuracy: 0.5159 - val_loss: 0.7029 - val_binary_accuracy: 0.3436\n",
            "Epoch 19/25\n",
            "34/34 [==============================] - 9s 254ms/step - loss: 0.6927 - binary_accuracy: 0.5159 - val_loss: 0.7033 - val_binary_accuracy: 0.3436\n",
            "Epoch 20/25\n",
            "34/34 [==============================] - 9s 258ms/step - loss: 0.6927 - binary_accuracy: 0.5159 - val_loss: 0.7032 - val_binary_accuracy: 0.3436\n",
            "Epoch 21/25\n",
            "34/34 [==============================] - 9s 258ms/step - loss: 0.6927 - binary_accuracy: 0.5159 - val_loss: 0.7027 - val_binary_accuracy: 0.3436\n",
            "Epoch 22/25\n",
            "34/34 [==============================] - 9s 253ms/step - loss: 0.6927 - binary_accuracy: 0.5159 - val_loss: 0.7031 - val_binary_accuracy: 0.3436\n",
            "Epoch 23/25\n",
            "34/34 [==============================] - 9s 252ms/step - loss: 0.6927 - binary_accuracy: 0.5159 - val_loss: 0.7037 - val_binary_accuracy: 0.3436\n",
            "Epoch 24/25\n",
            "34/34 [==============================] - 9s 254ms/step - loss: 0.6927 - binary_accuracy: 0.5159 - val_loss: 0.7031 - val_binary_accuracy: 0.3436\n",
            "Epoch 25/25\n",
            "34/34 [==============================] - 9s 252ms/step - loss: 0.6927 - binary_accuracy: 0.5159 - val_loss: 0.7032 - val_binary_accuracy: 0.3436\n"
          ],
          "name": "stdout"
        }
      ]
    },
    {
      "cell_type": "code",
      "metadata": {
        "id": "EVh-bF8ywx4h",
        "colab_type": "code",
        "colab": {}
      },
      "source": [
        ""
      ],
      "execution_count": null,
      "outputs": []
    },
    {
      "cell_type": "code",
      "metadata": {
        "id": "eE5hFolEwxwz",
        "colab_type": "code",
        "colab": {}
      },
      "source": [
        ""
      ],
      "execution_count": null,
      "outputs": []
    },
    {
      "cell_type": "code",
      "metadata": {
        "id": "aivit0KZwxoo",
        "colab_type": "code",
        "colab": {}
      },
      "source": [
        ""
      ],
      "execution_count": null,
      "outputs": []
    },
    {
      "cell_type": "code",
      "metadata": {
        "id": "gAxLjPhvwv1i",
        "colab_type": "code",
        "colab": {}
      },
      "source": [
        ""
      ],
      "execution_count": null,
      "outputs": []
    },
    {
      "cell_type": "code",
      "metadata": {
        "id": "x6f2A_xSwvWv",
        "colab_type": "code",
        "colab": {}
      },
      "source": [
        ""
      ],
      "execution_count": null,
      "outputs": []
    },
    {
      "cell_type": "markdown",
      "metadata": {
        "colab_type": "text",
        "id": "uT3UV3gap9H6"
      },
      "source": [
        "# Resources and Stretch Goals\n",
        "\n",
        "Stretch goals\n",
        "- Enhance your code to use classes/functions and accept terms to search and classes to look for in recognizing the downloaded images (e.g. download images of parties, recognize all that contain balloons)\n",
        "- Check out [other available pretrained networks](https://tfhub.dev), try some and compare\n",
        "- Image recognition/classification is somewhat solved, but *relationships* between entities and describing an image is not - check out some of the extended resources (e.g. [Visual Genome](https://visualgenome.org/)) on the topic\n",
        "- Transfer learning - using images you source yourself, [retrain a classifier](https://www.tensorflow.org/hub/tutorials/image_retraining) with a new category\n",
        "- (Not CNN related) Use [piexif](https://pypi.org/project/piexif/) to check out the metadata of images passed in to your system - see if they're from a national park! (Note - many images lack GPS metadata, so this won't work in most cases, but still cool)\n",
        "\n",
        "Resources\n",
        "- [Deep Residual Learning for Image Recognition](https://arxiv.org/abs/1512.03385) - influential paper (introduced ResNet)\n",
        "- [YOLO: Real-Time Object Detection](https://pjreddie.com/darknet/yolo/) - an influential convolution based object detection system, focused on inference speed (for applications to e.g. self driving vehicles)\n",
        "- [R-CNN, Fast R-CNN, Faster R-CNN, YOLO](https://towardsdatascience.com/r-cnn-fast-r-cnn-faster-r-cnn-yolo-object-detection-algorithms-36d53571365e) - comparison of object detection systems\n",
        "- [Common Objects in Context](http://cocodataset.org/) - a large-scale object detection, segmentation, and captioning dataset\n",
        "- [Visual Genome](https://visualgenome.org/) - a dataset, a knowledge base, an ongoing effort to connect structured image concepts to language"
      ]
    }
  ]
}